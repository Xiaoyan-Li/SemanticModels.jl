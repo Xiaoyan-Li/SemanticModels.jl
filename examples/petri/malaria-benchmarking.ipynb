{
 "cells": [
  {
   "cell_type": "code",
   "execution_count": 1,
   "metadata": {},
   "outputs": [],
   "source": [
    "using BenchmarkTools"
   ]
  },
  {
   "cell_type": "code",
   "execution_count": 41,
   "metadata": {},
   "outputs": [
    {
     "name": "stdout",
     "output_type": "stream",
     "text": [
      "  0.001836 seconds (10.49 k allocations: 554.916 KiB)\n"
     ]
    },
    {
     "data": {
      "text/plain": [
       "compile (generic function with 3 methods)"
      ]
     },
     "execution_count": 41,
     "metadata": {},
     "output_type": "execute_result"
    }
   ],
   "source": [
    "@time begin # BOILERPLATE IMPORTS AND FUNCTION DEFINITIONS\n",
    "    \n",
    "using Petri\n",
    "using MacroTools\n",
    "import MacroTools: postwalk, striplines\n",
    "using ModelingToolkit\n",
    "import ModelingToolkit: Constant\n",
    "import Base: ==, ∈, show, ^\n",
    "using Catlab.Doctrines\n",
    "import Catlab.Doctrines: ⊗, compose, otimes\n",
    "using Catlab.WiringDiagrams\n",
    "using Catlab.Graphics\n",
    "using Catlab.Graphics.Graphviz\n",
    "import Catlab.Graphics.Graphviz: Graph, Edge\n",
    "using SemanticModels\n",
    "using SemanticModels.ModelTools.CategoryTheory\n",
    "using SemanticModels.ModelTools.WiringDiagrams\n",
    "using SemanticModels.ModelTools.PetriModels\n",
    "using LabelledArrays\n",
    "using OrdinaryDiffEq\n",
    "import OrdinaryDiffEq: solve\n",
    "using Plots\n",
    "Petri.N(s) = 1 #sum(s[1:end-3])\n",
    "using SemanticModels.ModelTools.OpenPetris\n",
    "import Petri: NullPetri\n",
    "import SemanticModels.ModelTools.OpenModels: OpenModel\n",
    "import SemanticModels.ModelTools: model\n",
    "⊗(f::OpenModel,g::OpenModel) = otimes(f,g)\n",
    "⊚(f::OpenModel,g::OpenModel) = compose(f,g)\n",
    "^(x::Doctrines.FreeSymmetricMonoidalCategory.Ob{:generator}, n::Int) = foldl(⊗, x for i in 1:n)\n",
    "^(f::Doctrines.FreeSymmetricMonoidalCategory.Hom{:id}, n::Int64) = foldl(⊗, f for i in 1:n)\n",
    "conj(a::OpenModel, b::OpenModel) = compose(b,a,b)\n",
    "conj(a, b) = compose(b,a,b) \n",
    "op(f::Model) = Model(f.S, map(f.Δ) do t reverse(t) end)\n",
    "op(f::OpenModel) = OpenModel(f.dom, op(f.model), f.codom)\n",
    "wd(ex) = to_wiring_diagram(ex)\n",
    "function compile(expr::Doctrines.FreeSymmetricMonoidalCategory.Hom{:compose}, ctx::Dict)\n",
    "    compose(compile.(expr.args, (ctx,)))\n",
    "end\n",
    "function compile(expr::Doctrines.FreeSymmetricMonoidalCategory.Hom{:otimes}, ctx::Dict)\n",
    "    otimes(compile.(expr.args, (ctx,)))\n",
    "end\n",
    "function compile(expr, ctx::Dict)\n",
    "    return ctx[expr]\n",
    "end\n",
    "\n",
    "end"
   ]
  },
  {
   "cell_type": "code",
   "execution_count": 12,
   "metadata": {},
   "outputs": [
    {
     "data": {
      "text/plain": [
       "BenchmarkTools.Trial: \n",
       "  memory estimate:  82.75 KiB\n",
       "  allocs estimate:  1323\n",
       "  --------------\n",
       "  minimum time:     359.003 μs (0.00% GC)\n",
       "  median time:      445.699 μs (0.00% GC)\n",
       "  mean time:        502.483 μs (4.38% GC)\n",
       "  maximum time:     9.413 ms (93.74% GC)\n",
       "  --------------\n",
       "  samples:          9868\n",
       "  evals/sample:     1"
      ]
     },
     "execution_count": 12,
     "metadata": {},
     "output_type": "execute_result"
    }
   ],
   "source": [
    "@benchmark begin # MODEL TRANSFORMATIONS\n",
    "\n",
    "Base.Filesystem.mkpath(\"img\")\n",
    "X = OpenPetris.X;\n",
    "spontaneous = OpenModel([1,2], Model([1,2], [(X[1],X[2])]), [1,2])\n",
    "σ() = OpenModel([1,2], NullPetri(2), [2,1])\n",
    "birth   = Model([1], [(X[1], 2X[1])])\n",
    "death   = Model([1, 2], [(X[1], X[2])])\n",
    "pred(α,β,γ) = Model([1, 2], [(α*X[1] + β*X[2], γ*X[2])])\n",
    "b = OpenModel([1], birth, [1])\n",
    "d = OpenModel([1], death, [1])\n",
    "p(α, β, γ) = OpenModel([1,2], pred(α, β, γ), [1,2])\n",
    "pdag(α,β,γ) = OpenModel([1,2], Model([1, 2], [(α*X[2] + β*X[1], γ*X[1])]), [1,2])\n",
    "Xob = Ob(FreeSymmetricMonoidalCategory, :X)\n",
    "idₓ = id(Xob)\n",
    "σh = braid(Xob, Xob)\n",
    "bh = Hom(:birth, Xob,Xob)\n",
    "dh = Hom(:death, Xob, Xob)\n",
    "ph = Hom(:predation, Xob^2, Xob^2)\n",
    "pdagh = Hom(Symbol(\"p⋆\"), Xob^2, Xob^2)\n",
    "lookuptable = Dict( idₓ=>eye(1), σh=>σ(), bh=>b, dh=>d, ph=>p(1,1,1.15))\n",
    "set_primitive!(ctx::Dict, hom, f::OpenModel) = begin\n",
    "    ctx[hom] = f\n",
    "    return ctx\n",
    "end\n",
    "set_primitive(hom, f::OpenModel) = set_primitive!(lookuptable, hom, f)\n",
    "cur = Hom(:cure, Xob⊗Xob, Xob⊗Xob)\n",
    "inf = Hom(Symbol(\"inf¹³₂₃\"), Xob^3, Xob^3)\n",
    "cure = conj(spontaneous, σ())\n",
    "trinary  = OpenModel([1,2,3], Model([1,2,3], [(X[1]+X[3], X[2]+X[3])]), [1,2,3])\n",
    "set_primitive(inf, trinary)\n",
    "set_primitive(ph, p(1,1,1.15))\n",
    "set_primitive(cur, cure)\n",
    "set_primitive(inf, trinary)\n",
    "    \n",
    "malariah = compose(inf⊗idₓ, idₓ⊗compose(σh⊗idₓ, idₓ⊗σh, σh⊗idₓ), idₓ⊗inf, idₓ⊗conj(σh⊗idₓ, idₓ⊗σh), cur⊗compose(σh, cur, σh))\n",
    "birdsh = compose(σh⊗idₓ,idₓ⊗ph, σh⊗idₓ, idₓ⊗ph)\n",
    "vitalsh = bh⊗dh⊗dh⊗bh⊗dh\n",
    "birdmalh = compose(malariah⊗ idₓ, idₓ^2⊗birdsh, vitalsh)\n",
    "    \n",
    "end"
   ]
  },
  {
   "cell_type": "code",
   "execution_count": 11,
   "metadata": {},
   "outputs": [
    {
     "data": {
      "text/plain": [
       "BenchmarkTools.Trial: \n",
       "  memory estimate:  202.09 KiB\n",
       "  allocs estimate:  3808\n",
       "  --------------\n",
       "  minimum time:     474.153 μs (0.00% GC)\n",
       "  median time:      590.275 μs (0.00% GC)\n",
       "  mean time:        677.818 μs (7.11% GC)\n",
       "  maximum time:     7.758 ms (87.83% GC)\n",
       "  --------------\n",
       "  samples:          7346\n",
       "  evals/sample:     1"
      ]
     },
     "execution_count": 11,
     "metadata": {},
     "output_type": "execute_result"
    }
   ],
   "source": [
    "@benchmark begin # COMPILE MODEL TO PETRI\n",
    "\n",
    "birdmal = compile(birdmalh, lookuptable)\n",
    "    \n",
    "end"
   ]
  },
  {
   "cell_type": "code",
   "execution_count": 9,
   "metadata": {},
   "outputs": [
    {
     "data": {
      "text/plain": [
       "BenchmarkTools.Trial: \n",
       "  memory estimate:  1.72 MiB\n",
       "  allocs estimate:  40332\n",
       "  --------------\n",
       "  minimum time:     8.203 ms (0.00% GC)\n",
       "  median time:      9.581 ms (0.00% GC)\n",
       "  mean time:        10.067 ms (4.42% GC)\n",
       "  maximum time:     18.646 ms (46.63% GC)\n",
       "  --------------\n",
       "  samples:          497\n",
       "  evals/sample:     1"
      ]
     },
     "execution_count": 9,
     "metadata": {},
     "output_type": "execute_result"
    }
   ],
   "source": [
    "@benchmark begin # COMPILE PETRI TO DIFFEQ\n",
    "\n",
    "f = Petri.mk_function(birdmal.model)\n",
    "    \n",
    "end"
   ]
  },
  {
   "cell_type": "code",
   "execution_count": 10,
   "metadata": {},
   "outputs": [
    {
     "data": {
      "text/plain": [
       "BenchmarkTools.Trial: \n",
       "  memory estimate:  15.96 MiB\n",
       "  allocs estimate:  732069\n",
       "  --------------\n",
       "  minimum time:     52.583 ms (0.00% GC)\n",
       "  median time:      59.922 ms (6.28% GC)\n",
       "  mean time:        59.932 ms (4.82% GC)\n",
       "  maximum time:     67.951 ms (6.94% GC)\n",
       "  --------------\n",
       "  samples:          84\n",
       "  evals/sample:     1"
      ]
     },
     "execution_count": 10,
     "metadata": {},
     "output_type": "execute_result"
    }
   ],
   "source": [
    "@benchmark begin # SOLVE DIFFEQ\n",
    "\n",
    "u0 = @LArray [20,1,0,100,0.2,0,0,0.0] (:X₁, :X₂, :X₃, :X₄, :X₅, :X₆, :X₇, :X₈)\n",
    "varnames = [\"\\$S_p\\$\", \"\\$I_p\\$\", \"\\$I_m\\$\", \"\\$S_m\\$\", \"\\$B\\$\", \"\\$Dp\\$\", \"\\$Dm\\$\", \"\\$D_b\\$\"];\n",
    "\n",
    "βpm = 0.045\n",
    "βmp = 0.045\n",
    "ρp = 0.5\n",
    "ρm = 0.04\n",
    "ηI = 0.12\n",
    "ηS = 0.12\n",
    "νp = 0.006\n",
    "δp = 1.0\n",
    "δm = 0.03\n",
    "νm = 0.1\n",
    "δb = 0.85\n",
    "params = [βpm, βmp,ρp,ρm,ηI, ηS, νp, δp, δm, νm, δb]\n",
    "prob = ODEProblem(f,u0,(0.0, 160.0),params)\n",
    "sol = solve(prob,Tsit5(), tol=1e-5)\n",
    "# @show sol[end]\n",
    "\n",
    "varnames = [:Sp, :Ip, :Im, :Sm, :B, :Dp, :Dm,:Db]\n",
    "plotvars = [1,2,3,4,5]\n",
    "plt = plot(sol, vars =plotvars, labels=varnames[plotvars])\n",
    "ylims!(plt, (0,100))\n",
    "xlims!(plt, (0,10))\n",
    "savefig(plt, \"img/birdmal_sol_subcritical.png\")\n",
    "plt\n",
    "\n",
    "end"
   ]
  }
 ],
 "metadata": {
  "kernelspec": {
   "display_name": "Julia 1.0.4",
   "language": "julia",
   "name": "julia-1.0"
  },
  "language_info": {
   "file_extension": ".jl",
   "mimetype": "application/julia",
   "name": "julia",
   "version": "1.0.4"
  }
 },
 "nbformat": 4,
 "nbformat_minor": 4
}
