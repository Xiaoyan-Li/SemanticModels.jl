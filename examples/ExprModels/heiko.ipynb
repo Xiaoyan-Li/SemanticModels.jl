{
 "cells": [
  {
   "cell_type": "markdown",
   "metadata": {},
   "source": [
    "# Heiko's Challenge\n",
    "\n",
    "Given and ODE that describes population level dynamics, design an ABM that has the same dynamics. The definition of same dynamics is $V(t) = P$ solve for $t$ within 20%. \n",
    "\n",
    "The given equation is\n",
    "\n",
    "$$\n",
    "  \\frac{dV}{dt} = \\lambda V \\left(1-\\frac{V}{k}\\right)\n",
    "$$\n",
    "\n",
    "- $V_0 = 1$\n",
    "- $\\lambda = ln 2$\n",
    "- $k = 1000$\n"
   ]
  },
  {
   "cell_type": "code",
   "execution_count": 1,
   "metadata": {},
   "outputs": [
    {
     "name": "stderr",
     "output_type": "stream",
     "text": [
      "┌ Info: Precompiling DifferentialEquations [0c46a032-eb83-5123-abaf-570d42b7fbaa]\n",
      "└ @ Base loading.jl:1260\n"
     ]
    }
   ],
   "source": [
    "using DifferentialEquations"
   ]
  },
  {
   "cell_type": "code",
   "execution_count": 2,
   "metadata": {},
   "outputs": [
    {
     "data": {
      "text/plain": [
       "solve (generic function with 1 method)"
      ]
     },
     "execution_count": 2,
     "metadata": {},
     "output_type": "execute_result"
    }
   ],
   "source": [
    "function solve(f, param, initial, tdomain)\n",
    "    tsamples = 100\n",
    "    tstart = first(tdomain)\n",
    "    tend = last(tdomain)\n",
    "    tlen = tend - tstart\n",
    "    dt = tlen/(tsamples-1)\n",
    "    tset = tstart:dt:tend\n",
    "    @show tset\n",
    "    sol = [initial]\n",
    "    for t in 0:dt:tend\n",
    "        u = sol[end] + dt*f(sol[end], t, param)\n",
    "        push!(sol, u)\n",
    "    end\n",
    "    return sol\n",
    "end"
   ]
  },
  {
   "cell_type": "code",
   "execution_count": 3,
   "metadata": {},
   "outputs": [
    {
     "data": {
      "text/plain": [
       "(0, 21)"
      ]
     },
     "execution_count": 3,
     "metadata": {},
     "output_type": "execute_result"
    }
   ],
   "source": [
    "V₀ = 1.0\n",
    "λ = log(2)\n",
    "k = 1000\n",
    "f(u,t, p) = begin\n",
    "    λ = first(p)\n",
    "    k = last(p)\n",
    "    λ*u*(1-(u/k))\n",
    "end\n",
    "\n",
    "tdomain = (0, 21)"
   ]
  },
  {
   "cell_type": "code",
   "execution_count": 4,
   "metadata": {},
   "outputs": [
    {
     "name": "stdout",
     "output_type": "stream",
     "text": [
      "tset = 0.0:0.21212121212121213:21.0\n"
     ]
    },
    {
     "data": {
      "text/plain": [
       "101-element Array{Float64,1}:\n",
       "   1.0\n",
       "   1.1468841888986576\n",
       "   1.3153185739908013\n",
       "   1.5084570955029775\n",
       "   1.7299128216190918\n",
       "   1.983824009091136\n",
       "   2.2749294237983895\n",
       "   2.6086541414191298\n",
       "   2.991207184009446\n",
       "   3.4296924904646002\n",
       "   3.9322348645189606\n",
       "   4.508122688461221\n",
       "   5.167969327283415\n",
       "   ⋮\n",
       " 997.8393008179573\n",
       " 998.1563046219674\n",
       " 998.426885612544\n",
       " 998.6578186837932\n",
       " 998.8548963708434\n",
       " 999.0230695581017\n",
       " 999.166568507365\n",
       " 999.2890068275431\n",
       " 999.3934706952435\n",
       " 999.4825953494383\n",
       " 999.5586306251345\n",
       " 999.6234970601441"
      ]
     },
     "execution_count": 4,
     "metadata": {},
     "output_type": "execute_result"
    }
   ],
   "source": [
    "sol = solve(f, (λ, k), V₀, tdomain)"
   ]
  },
  {
   "cell_type": "code",
   "execution_count": 5,
   "metadata": {},
   "outputs": [
    {
     "name": "stdout",
     "output_type": "stream",
     "text": [
      "12.475247524752476:\t802.4081057785716\n"
     ]
    }
   ],
   "source": [
    "yet = false\n",
    "for (i, u) in enumerate(sol)\n",
    "    t = (tdomain[2]-tdomain[1])i/length(sol)\n",
    "    if u > 800 && ! yet\n",
    "        println(\"$t:\\t\", u)\n",
    "        yet = true\n",
    "    end\n",
    "end"
   ]
  },
  {
   "cell_type": "code",
   "execution_count": 7,
   "metadata": {},
   "outputs": [
    {
     "name": "stderr",
     "output_type": "stream",
     "text": [
      "┌ Info: Precompiling Plots [91a5bcdd-55d7-5caf-9e0b-520d859cae80]\n",
      "└ @ Base loading.jl:1260\n"
     ]
    }
   ],
   "source": [
    "using Plots"
   ]
  },
  {
   "cell_type": "markdown",
   "metadata": {},
   "source": [
    "## ABM Version\n",
    "\n",
    "Deterministic ABM that has the same dynamics as the ODE logistic growth"
   ]
  },
  {
   "cell_type": "code",
   "execution_count": 8,
   "metadata": {},
   "outputs": [
    {
     "data": {
      "text/plain": [
       "transition! (generic function with 1 method)"
      ]
     },
     "execution_count": 8,
     "metadata": {},
     "output_type": "execute_result"
    }
   ],
   "source": [
    "function transition!(agents, param)\n",
    "    V = length(agents)\n",
    "    λ, k = first(param), last(param)\n",
    "    dV = ceil(λ*V*(1-(V/k)))\n",
    "    append!(agents, [:V for i in 0:dV])\n",
    "    return agents\n",
    "end\n"
   ]
  },
  {
   "cell_type": "code",
   "execution_count": 10,
   "metadata": {},
   "outputs": [
    {
     "name": "stdout",
     "output_type": "stream",
     "text": [
      "0:\t1\n",
      "1:\t3\n",
      "2:\t7\n",
      "3:\t13\n",
      "4:\t23\n",
      "5:\t40\n",
      "6:\t68\n",
      "7:\t113\n",
      "8:\t184\n",
      "9:\t290\n",
      "10:\t434\n",
      "11:\t606\n",
      "12:\t773\n",
      "13:\t896\n",
      "14:\t962\n",
      "15:\t989\n",
      "16:\t998\n"
     ]
    }
   ],
   "source": [
    "agents = [:V]\n",
    "day = 0\n",
    "while length(agents) < 999\n",
    "    println(day, \":\\t\", length(agents))\n",
    "    agents = transition!(agents, (λ, k))\n",
    "    day += 1\n",
    "end"
   ]
  },
  {
   "cell_type": "markdown",
   "metadata": {},
   "source": [
    "## Stochastic ABM \n",
    "\n",
    "This version is a true ABM, it models the agents as cells that divide instantaneously."
   ]
  },
  {
   "cell_type": "code",
   "execution_count": 11,
   "metadata": {},
   "outputs": [
    {
     "data": {
      "text/plain": [
       "transition_stoch! (generic function with 1 method)"
      ]
     },
     "execution_count": 11,
     "metadata": {},
     "output_type": "execute_result"
    }
   ],
   "source": [
    "function transition_stoch!(agents, param, step)\n",
    "    V = length(agents)\n",
    "    λ, k = first(param), last(param)\n",
    "    EdV = (λ*V*(1-(V/k)))*step\n",
    "    p = EdV/V\n",
    "    for i in 1:length(agents)\n",
    "        add = rand(Float64) < p\n",
    "        if add\n",
    "            push!(agents, :V)\n",
    "        end        \n",
    "    end\n",
    "    return agents\n",
    "end"
   ]
  },
  {
   "cell_type": "code",
   "execution_count": 12,
   "metadata": {},
   "outputs": [
    {
     "name": "stdout",
     "output_type": "stream",
     "text": [
      "0:\t1\n",
      "0.5:\t1\n",
      "1.0:\t1\n",
      "1.5:\t1\n",
      "2.0:\t1\n",
      "2.5:\t1\n",
      "3.0:\t2\n",
      "3.5:\t2\n",
      "4.0:\t3\n",
      "4.5:\t4\n",
      "5.0:\t4\n",
      "5.5:\t5\n",
      "6.0:\t6\n",
      "6.5:\t8\n",
      "7.0:\t14\n",
      "7.5:\t17\n",
      "8.0:\t24\n",
      "8.5:\t32\n",
      "9.0:\t41\n",
      "9.5:\t60\n",
      "10.0:\t80\n",
      "10.5:\t105\n",
      "11.0:\t137\n",
      "11.5:\t176\n",
      "12.0:\t223\n",
      "12.5:\t280\n",
      "13.0:\t345\n",
      "13.5:\t421\n",
      "14.0:\t503\n",
      "14.5:\t588\n",
      "15.0:\t667\n",
      "15.5:\t746\n",
      "============\n",
      "16.0:\t813\n",
      "================\n",
      "16.0:\t813\n",
      "============\n",
      "16.5:\t884\n",
      "================\n",
      "16.5:\t884\n",
      "============\n",
      "17.0:\t918\n",
      "================\n",
      "17.0:\t918\n",
      "============\n",
      "17.5:\t943\n",
      "================\n",
      "17.5:\t943\n",
      "============\n",
      "18.0:\t961\n",
      "================\n",
      "18.0:\t961\n",
      "============\n",
      "18.5:\t976\n",
      "================\n",
      "18.5:\t976\n",
      "============\n",
      "19.0:\t983\n",
      "================\n",
      "19.0:\t983\n",
      "============\n",
      "19.5:\t989\n",
      "================\n",
      "19.5:\t989\n",
      "============\n",
      "20.0:\t992\n",
      "================\n",
      "20.0:\t992\n",
      "============\n",
      "20.5:\t998\n",
      "================\n",
      "20.5:\t998\n",
      "============\n",
      "21.0:\t998\n",
      "================\n",
      "21.0:\t998\n",
      "============\n",
      "21.5:\t999\n",
      "================\n",
      "21.5:\t999\n",
      "============\n",
      "22.0:\t1001\n",
      "================\n"
     ]
    }
   ],
   "source": [
    "agents = [:V]\n",
    "day = 0\n",
    "dt = 1/2\n",
    "yet = false\n",
    "for i in 1:ceil(30/dt)\n",
    "    println(day, \":\\t\", length(agents))\n",
    "    agents = transition_stoch!(agents, (λ, k), dt)\n",
    "    day += dt\n",
    "    if length(agents) > 800 && !false\n",
    "        println(\"============\\n$day:\\t\", length(agents), \"\\n================\")\n",
    "        yet = true\n",
    "    end\n",
    "    if length(agents) >= k\n",
    "        break\n",
    "    end\n",
    "end"
   ]
  },
  {
   "cell_type": "markdown",
   "metadata": {},
   "source": [
    "$$\\frac{dv}{dt} = λV\\log\\left(\\frac{k}{v}\\right)$$"
   ]
  },
  {
   "cell_type": "code",
   "execution_count": 13,
   "metadata": {},
   "outputs": [
    {
     "data": {
      "text/plain": [
       "f (generic function with 1 method)"
      ]
     },
     "execution_count": 13,
     "metadata": {},
     "output_type": "execute_result"
    }
   ],
   "source": [
    "f(u, t, p) = begin\n",
    "    λ, k = p\n",
    "    V = u\n",
    "    λ*V*log(k/V)\n",
    "end"
   ]
  },
  {
   "cell_type": "code",
   "execution_count": 14,
   "metadata": {},
   "outputs": [
    {
     "name": "stdout",
     "output_type": "stream",
     "text": [
      "tset = 0.0:0.21212121212121213:21.0\n"
     ]
    },
    {
     "data": {
      "text/plain": [
       "101-element Array{Float64,1}:\n",
       "   1.0\n",
       "   2.0156556869506614\n",
       "   3.85513289828604\n",
       "   7.005743932159319\n",
       "  12.115912516413033\n",
       "  19.977727216474033\n",
       "  31.471979427712903\n",
       "  47.476445813911894\n",
       "  68.74973032659722\n",
       "  95.81265655682066\n",
       " 128.85280938170206\n",
       " 167.67350645981645\n",
       " 211.69769996668276\n",
       "   ⋮\n",
       " 999.9914953822414\n",
       " 999.9927458212497\n",
       " 999.9938124081337\n",
       " 999.9947221745008\n",
       " 999.9954981775757\n",
       " 999.9961600845296\n",
       " 999.9967246709024\n",
       " 999.9972062457472\n",
       " 999.9976170142698\n",
       " 999.9979673871518\n",
       " 999.9982662443952\n",
       " 999.9985211603762"
      ]
     },
     "execution_count": 14,
     "metadata": {},
     "output_type": "execute_result"
    }
   ],
   "source": [
    "sol = solve(f, (λ, k), V₀, tdomain)"
   ]
  },
  {
   "cell_type": "code",
   "execution_count": 15,
   "metadata": {},
   "outputs": [
    {
     "name": "stdout",
     "output_type": "stream",
     "text": [
      "0:\t1\n",
      "0.125:\t1\n",
      "0.25:\t1\n",
      "0.375:\t2\n",
      "0.5:\t4\n",
      "0.625:\t7\n",
      "0.75:\t10\n",
      "0.875:\t13\n",
      "1.0:\t18\n",
      "1.125:\t24\n",
      "1.25:\t31\n",
      "1.375:\t39\n",
      "1.5:\t51\n",
      "1.625:\t65\n",
      "1.75:\t78\n",
      "1.875:\t90\n",
      "2.0:\t101\n",
      "2.125:\t121\n",
      "2.25:\t142\n",
      "2.375:\t175\n",
      "2.5:\t200\n",
      "2.625:\t224\n",
      "2.75:\t243\n",
      "2.875:\t269\n",
      "3.0:\t297\n",
      "3.125:\t324\n",
      "3.25:\t365\n",
      "3.375:\t397\n",
      "3.5:\t429\n",
      "3.625:\t461\n",
      "3.75:\t488\n",
      "3.875:\t522\n",
      "4.0:\t552\n",
      "4.125:\t581\n",
      "4.25:\t607\n",
      "4.375:\t628\n",
      "4.5:\t654\n",
      "4.625:\t677\n",
      "4.75:\t694\n",
      "4.875:\t725\n",
      "5.0:\t737\n",
      "5.125:\t757\n",
      "5.25:\t768\n",
      "5.375:\t793\n",
      "============\n",
      "5.5:\t810\n",
      "================\n"
     ]
    }
   ],
   "source": [
    "function transition_stoch!(agents, param, step)\n",
    "    V = length(agents)\n",
    "    λ, k = first(param), last(param)\n",
    "    EdV = (λ*V*(log(k/V)))*step\n",
    "    p = EdV/V\n",
    "    for i in 1:length(agents)\n",
    "        add = rand(Float64) < p\n",
    "        if add\n",
    "            push!(agents, :V)\n",
    "        end        \n",
    "    end\n",
    "    return agents\n",
    "end\n",
    "agents = [:V]\n",
    "day = 0\n",
    "dt = 1/8\n",
    "yet = false\n",
    "for i in 1:ceil(30/dt)\n",
    "    println(day, \":\\t\", length(agents))\n",
    "    agents = transition_stoch!(agents, (λ, k), dt)\n",
    "    day += dt\n",
    "    if length(agents) > 800 && !false\n",
    "        println(\"============\\n$day:\\t\", length(agents), \"\\n================\")\n",
    "        yet = true\n",
    "        break\n",
    "    end\n",
    "    if length(agents) >= k\n",
    "        break\n",
    "    end\n",
    "end"
   ]
  },
  {
   "cell_type": "code",
   "execution_count": 16,
   "metadata": {},
   "outputs": [
    {
     "name": "stdout",
     "output_type": "stream",
     "text": [
      "5.405940594059406:\t802.7945435374461\n"
     ]
    }
   ],
   "source": [
    "yet = false\n",
    "for (i, u) in enumerate(sol)\n",
    "    t = (tdomain[2]-tdomain[1])i/length(sol)\n",
    "    if u > 800 && ! yet\n",
    "        println(\"$t:\\t\", u)\n",
    "        yet = true\n",
    "    end\n",
    "end"
   ]
  },
  {
   "cell_type": "code",
   "execution_count": 17,
   "metadata": {},
   "outputs": [
    {
     "name": "stderr",
     "output_type": "stream",
     "text": [
      "┌ Info: Precompiling SemanticModels [f5ac2a72-33c7-5caf-b863-f02fefdcf428]\n",
      "└ @ Base loading.jl:1260\n",
      "WARNING: using Doctrines.Δ in module Petri conflicts with an existing identifier.\n",
      "WARNING: Method definition in(ModelingToolkit.Operation, Array{ModelingToolkit.Operation, 1}) in module Petri at /home/micah/Documents/gtri/aske/SemanticModels.jl/env/packages/Petri/PleEz/src/openmodels.jl:78 overwritten in module OpenPetris at /home/micah/Documents/gtri/aske/SemanticModels.jl/env/dev/SemanticModels/src/OpenPetris.jl:72.\n",
      "  ** incremental compilation may be fatally broken for this module **\n",
      "\n"
     ]
    }
   ],
   "source": [
    "using SemanticModels\n",
    "import SemanticModels: model"
   ]
  },
  {
   "cell_type": "code",
   "execution_count": 18,
   "metadata": {},
   "outputs": [],
   "source": [
    "using SemanticModels.ExprModels\n",
    "using SemanticModels.ExprModels.ExpODEModels\n",
    "using SemanticModels.ExprModels.Transformations\n",
    "import SemanticModels.ExprModels.ExpODEModels: ExpODEModel"
   ]
  },
  {
   "cell_type": "code",
   "execution_count": 20,
   "metadata": {},
   "outputs": [
    {
     "ename": "BoundsError",
     "evalue": "BoundsError: attempt to access 1-element Array{Any,1} at index [2]",
     "output_type": "error",
     "traceback": [
      "BoundsError: attempt to access 1-element Array{Any,1} at index [2]",
      "",
      "Stacktrace:",
      " [1] getindex at ./array.jl:787 [inlined]",
      " [2] (::SemanticModels.ExprModels.var\"#f#1\"{Symbol,Array{Expr,1}})(::Expr) at /home/micah/Documents/gtri/aske/SemanticModels.jl/env/dev/SemanticModels/src/exprmodels/ExprModels.jl:47",
      " [3] iterate at ./generator.jl:47 [inlined]",
      " [4] _collect(::Array{Any,1}, ::Base.Generator{Array{Any,1},SemanticModels.ExprModels.var\"#f#1\"{Symbol,Array{Expr,1}}}, ::Base.EltypeUnknown, ::Base.HasShape{1}) at ./array.jl:678",
      " [5] collect_similar(::Array{Any,1}, ::Base.Generator{Array{Any,1},SemanticModels.ExprModels.var\"#f#1\"{Symbol,Array{Expr,1}}}) at ./array.jl:607",
      " [6] map(::Function, ::Array{Any,1}) at ./abstractarray.jl:2072",
      " [7] walk(::Expr, ::Function, ::SemanticModels.ExprModels.var\"#g#2\") at /home/micah/Documents/gtri/aske/SemanticModels.jl/env/dev/SemanticModels/src/exprmodels/findfunc.jl:54",
      " [8] (::SemanticModels.ExprModels.var\"#f#1\"{Symbol,Array{Expr,1}})(::Expr) at /home/micah/Documents/gtri/aske/SemanticModels.jl/env/dev/SemanticModels/src/exprmodels/ExprModels.jl:51",
      " [9] iterate at ./generator.jl:47 [inlined]",
      " [10] collect_to!(::Array{Any,1}, ::Base.Generator{Array{Any,1},SemanticModels.ExprModels.var\"#f#1\"{Symbol,Array{Expr,1}}}, ::Int64, ::Int64) at ./array.jl:710",
      " [11] collect_to!(::Array{LineNumberNode,1}, ::Base.Generator{Array{Any,1},SemanticModels.ExprModels.var\"#f#1\"{Symbol,Array{Expr,1}}}, ::Int64, ::Int64) at ./array.jl:718",
      " [12] collect_to_with_first!(::Array{LineNumberNode,1}, ::LineNumberNode, ::Base.Generator{Array{Any,1},SemanticModels.ExprModels.var\"#f#1\"{Symbol,Array{Expr,1}}}, ::Int64) at ./array.jl:689",
      " [13] _collect(::Array{Any,1}, ::Base.Generator{Array{Any,1},SemanticModels.ExprModels.var\"#f#1\"{Symbol,Array{Expr,1}}}, ::Base.EltypeUnknown, ::Base.HasShape{1}) at ./array.jl:683",
      " [14] collect_similar(::Array{Any,1}, ::Base.Generator{Array{Any,1},SemanticModels.ExprModels.var\"#f#1\"{Symbol,Array{Expr,1}}}) at ./array.jl:607",
      " [15] map(::Function, ::Array{Any,1}) at ./abstractarray.jl:2072",
      " [16] walk(::Expr, ::Function, ::SemanticModels.ExprModels.var\"#g#2\") at /home/micah/Documents/gtri/aske/SemanticModels.jl/env/dev/SemanticModels/src/exprmodels/findfunc.jl:54",
      " [17] (::SemanticModels.ExprModels.var\"#f#1\"{Symbol,Array{Expr,1}})(::Expr) at /home/micah/Documents/gtri/aske/SemanticModels.jl/env/dev/SemanticModels/src/exprmodels/ExprModels.jl:51",
      " [18] iterate at ./generator.jl:47 [inlined]",
      " [19] collect_to!(::Array{Any,1}, ::Base.Generator{Array{Any,1},SemanticModels.ExprModels.var\"#f#1\"{Symbol,Array{Expr,1}}}, ::Int64, ::Int64) at ./array.jl:710",
      " [20] collect_to!(::Array{Bool,1}, ::Base.Generator{Array{Any,1},SemanticModels.ExprModels.var\"#f#1\"{Symbol,Array{Expr,1}}}, ::Int64, ::Int64) at ./array.jl:718",
      " [21] collect_to_with_first!(::Array{Bool,1}, ::Bool, ::Base.Generator{Array{Any,1},SemanticModels.ExprModels.var\"#f#1\"{Symbol,Array{Expr,1}}}, ::Int64) at ./array.jl:689",
      " [22] _collect(::Array{Any,1}, ::Base.Generator{Array{Any,1},SemanticModels.ExprModels.var\"#f#1\"{Symbol,Array{Expr,1}}}, ::Base.EltypeUnknown, ::Base.HasShape{1}) at ./array.jl:683",
      " [23] collect_similar(::Array{Any,1}, ::Base.Generator{Array{Any,1},SemanticModels.ExprModels.var\"#f#1\"{Symbol,Array{Expr,1}}}) at ./array.jl:607",
      " [24] map(::Function, ::Array{Any,1}) at ./abstractarray.jl:2072",
      " [25] walk(::Expr, ::Function, ::SemanticModels.ExprModels.var\"#g#2\") at /home/micah/Documents/gtri/aske/SemanticModels.jl/env/dev/SemanticModels/src/exprmodels/findfunc.jl:54",
      " [26] callsites(::Expr, ::Symbol) at /home/micah/Documents/gtri/aske/SemanticModels.jl/env/dev/SemanticModels/src/exprmodels/ExprModels.jl:55",
      " [27] model(::Type{ExpODEModel}, ::Expr) at /home/micah/Documents/gtri/aske/SemanticModels.jl/env/dev/SemanticModels/src/exprmodels/ExpODEModels.jl:39",
      " [28] top-level scope at In[20]:21"
     ]
    }
   ],
   "source": [
    "code = quote module Gompertz\n",
    "    using DifferentialEquations\n",
    "function f(du, u,t, p)\n",
    "    λ = first(p)\n",
    "    k = last(p)\n",
    "    return λ*u*(1-(u/k))\n",
    "end\n",
    "function main()\n",
    "V₀ = 1.0\n",
    "λ = log(2)\n",
    "k = 1000\n",
    "p = (λ, k)\n",
    "\n",
    "\n",
    "tdomain = (0, 21)\n",
    "prob = ODEProblem(f, p, V₀, tdomain)\n",
    "sol = solve(prob)\n",
    "end\n",
    "end\n",
    "end\n",
    "m = model(ExpODEModel, code.args[2])"
   ]
  },
  {
   "cell_type": "code",
   "execution_count": 21,
   "metadata": {},
   "outputs": [
    {
     "ename": "ArgumentError",
     "evalue": "ArgumentError: Package ModelingToolkit not found in current path:\n- Run `import Pkg; Pkg.add(\"ModelingToolkit\")` to install the ModelingToolkit package.\n",
     "output_type": "error",
     "traceback": [
      "ArgumentError: Package ModelingToolkit not found in current path:\n- Run `import Pkg; Pkg.add(\"ModelingToolkit\")` to install the ModelingToolkit package.\n",
      "",
      "Stacktrace:",
      " [1] require(::Module, ::Symbol) at ./loading.jl:892",
      " [2] top-level scope at In[21]:1"
     ]
    }
   ],
   "source": [
    "using ModelingToolkit"
   ]
  },
  {
   "cell_type": "code",
   "execution_count": 205,
   "metadata": {},
   "outputs": [
    {
     "name": "stdout",
     "output_type": "stream",
     "text": [
      "return λ * u * (1 - u / k) return\n",
      "factor = (x.args[end]).args[end] = :(1 - u / k)\n"
     ]
    },
    {
     "data": {
      "text/plain": [
       ":(function f(du, u, t, p)\n",
       "      #= In[198]:4 =#\n",
       "      λ = first(p)\n",
       "      #= In[198]:5 =#\n",
       "      k = last(p)\n",
       "      #= In[198]:6 =#\n",
       "      return λ * u * (1 - u / k)\n",
       "  end)"
      ]
     },
     "execution_count": 205,
     "metadata": {},
     "output_type": "execute_result"
    }
   ],
   "source": [
    "h(x) = head(x)\n",
    "h(x::Symbol) = x\n",
    "\n",
    "@variables u λ k\n",
    "Transformations.postwalk(m.funcs[1]) do x\n",
    "    try\n",
    "        if isa(x, Expr) && h(x) == :return\n",
    "            println(x, \" \",h(x))\n",
    "            @show factor = x.args[end].args[end]\n",
    "            \n",
    "        else\n",
    "            if isa(x, Symbol)\n",
    "                @variables \n",
    "            end\n",
    "    finally\n",
    "        x\n",
    "    end\n",
    "    x\n",
    "end"
   ]
  },
  {
   "cell_type": "code",
   "execution_count": 197,
   "metadata": {},
   "outputs": [
    {
     "data": {
      "text/plain": [
       ":(function f(du, u, t, p)\n",
       "      #= In[195]:4 =#\n",
       "      λ = first(p)\n",
       "      #= In[195]:5 =#\n",
       "      k = last(p)\n",
       "      #= In[195]:6 =#\n",
       "      return λ * u * (1 - u / k)\n",
       "  end)"
      ]
     },
     "execution_count": 197,
     "metadata": {},
     "output_type": "execute_result"
    }
   ],
   "source": [
    "m.funcs[1]"
   ]
  },
  {
   "cell_type": "code",
   "execution_count": 210,
   "metadata": {},
   "outputs": [
    {
     "data": {
      "text/plain": [
       "(V(), λ(), k(), u(), t())"
      ]
     },
     "execution_count": 210,
     "metadata": {},
     "output_type": "execute_result"
    }
   ],
   "source": [
    "@variables V λ k u t"
   ]
  },
  {
   "cell_type": "code",
   "execution_count": 212,
   "metadata": {},
   "outputs": [
    {
     "data": {
      "text/plain": [
       "(λ() * V()) * log(k() / V())"
      ]
     },
     "execution_count": 212,
     "metadata": {},
     "output_type": "execute_result"
    }
   ],
   "source": [
    "dvdt = f(V, t, (λ, k))"
   ]
  },
  {
   "cell_type": "code",
   "execution_count": 213,
   "metadata": {},
   "outputs": [
    {
     "name": "stdout",
     "output_type": "stream",
     "text": [
      "Operation\n",
      "  op: * (function of type typeof(*))\n",
      "  args: Array{Expression}((2,)) Expression[λ() * V(), log(k() / V())]\n"
     ]
    }
   ],
   "source": [
    "dump(dvdt)\n"
   ]
  },
  {
   "cell_type": "code",
   "execution_count": 216,
   "metadata": {},
   "outputs": [
    {
     "data": {
      "text/plain": [
       "Set(Variable[k, V, λ])"
      ]
     },
     "execution_count": 216,
     "metadata": {},
     "output_type": "execute_result"
    }
   ],
   "source": [
    "ModelingToolkit.vars(dvdt/V)"
   ]
  },
  {
   "cell_type": "code",
   "execution_count": 218,
   "metadata": {},
   "outputs": [
    {
     "data": {
      "text/plain": [
       "((λ() * V()) * log(k() / V())) / V()"
      ]
     },
     "execution_count": 218,
     "metadata": {},
     "output_type": "execute_result"
    }
   ],
   "source": [
    "dvdt/V"
   ]
  },
  {
   "cell_type": "code",
   "execution_count": 239,
   "metadata": {},
   "outputs": [
    {
     "data": {
      "text/plain": [
       "Bernoulli (generic function with 2 methods)"
      ]
     },
     "execution_count": 239,
     "metadata": {},
     "output_type": "execute_result"
    }
   ],
   "source": [
    "# import Base: rand\n",
    "# ModelingToolkit.@register rand(x)\n",
    "# Operation(ifelse, [rand(V) < dvdt/V, 1, 0])\n",
    "ModelingToolkit.@register Bernoulli(p)\n",
    "Bernoulli(p) = ifelse(rand() < p, 0, 1)"
   ]
  },
  {
   "cell_type": "code",
   "execution_count": 240,
   "metadata": {},
   "outputs": [
    {
     "data": {
      "text/plain": [
       "Bernoulli(((λ() * V()) * log(k() / V())) / V())"
      ]
     },
     "execution_count": 240,
     "metadata": {},
     "output_type": "execute_result"
    }
   ],
   "source": [
    "Bernoulli(dvdt/V)"
   ]
  },
  {
   "cell_type": "code",
   "execution_count": 245,
   "metadata": {},
   "outputs": [
    {
     "data": {
      "text/plain": [
       "transition_stoch! (generic function with 3 methods)"
      ]
     },
     "execution_count": 245,
     "metadata": {},
     "output_type": "execute_result"
    }
   ],
   "source": [
    "function transition_stoch!(agents, dudt, param, step)\n",
    "    V = length(agents)\n",
    "    λ, k = first(param), last(param)\n",
    "    EdV = dudt*step\n",
    "    p = EdV/V\n",
    "    add = Bernoulli(p)\n",
    "    @show add\n",
    "    for i in 1:length(agents)\n",
    "        if @show(add, (V=length(agents), λ=first(param), k=last(param)))\n",
    "            push!(agents, :V)\n",
    "        end\n",
    "    end\n",
    "    return agents\n",
    "end"
   ]
  },
  {
   "cell_type": "code",
   "execution_count": 246,
   "metadata": {},
   "outputs": [
    {
     "data": {
      "text/plain": [
       "(abmdt(),)"
      ]
     },
     "execution_count": 246,
     "metadata": {},
     "output_type": "execute_result"
    }
   ],
   "source": [
    "@variables abmdt"
   ]
  },
  {
   "cell_type": "code",
   "execution_count": 247,
   "metadata": {},
   "outputs": [
    {
     "name": "stdout",
     "output_type": "stream",
     "text": [
      "add = Bernoulli((((λ() * V()) * log(k() / V())) * abmdt()) / 801)\n",
      "add = Bernoulli((((λ() * V()) * log(k() / V())) * abmdt()) / 801)\n",
      "(V = length(agents), λ = first(param), k = last(param)) = (V = 801, λ = λ(), k = k())\n"
     ]
    },
    {
     "ename": "TypeError",
     "evalue": "TypeError: non-boolean (NamedTuple{(:V, :λ, :k),Tuple{Int64,Operation,Operation}}) used in boolean context",
     "output_type": "error",
     "traceback": [
      "TypeError: non-boolean (NamedTuple{(:V, :λ, :k),Tuple{Int64,Operation,Operation}}) used in boolean context",
      "",
      "Stacktrace:",
      " [1] transition_stoch!(::Array{Symbol,1}, ::Operation, ::Tuple{Operation,Operation}, ::Operation) at ./In[245]:8",
      " [2] top-level scope at In[247]:1"
     ]
    }
   ],
   "source": [
    "transition_stoch!(agents, dvdt, (λ, k), abmdt)"
   ]
  },
  {
   "cell_type": "code",
   "execution_count": null,
   "metadata": {},
   "outputs": [],
   "source": []
  }
 ],
 "metadata": {
  "kernelspec": {
   "display_name": "julia-semanticmodels 1.4.0",
   "language": "julia",
   "name": "julia-semanticmodels-1.4"
  },
  "language_info": {
   "file_extension": ".jl",
   "mimetype": "application/julia",
   "name": "julia",
   "version": "1.4.0"
  }
 },
 "nbformat": 4,
 "nbformat_minor": 4
}
